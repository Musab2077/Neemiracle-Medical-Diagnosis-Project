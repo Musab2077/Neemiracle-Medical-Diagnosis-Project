{
 "cells": [
  {
   "cell_type": "code",
   "execution_count": 1,
   "id": "e6029767-5da2-42d1-bf9d-09e52ec645cf",
   "metadata": {},
   "outputs": [],
   "source": [
    "import os\n",
    "import cv2\n",
    "import pathlib"
   ]
  },
  {
   "cell_type": "code",
   "execution_count": 2,
   "id": "fb966776-3d4c-444e-a417-b8b5ebe33a1b",
   "metadata": {},
   "outputs": [],
   "source": [
    "data_dir=pathlib.Path('brain_tumor_dataset')"
   ]
  },
  {
   "cell_type": "code",
   "execution_count": 3,
   "id": "b714f0fe-d1b1-4298-aeb9-9b4bfaad0880",
   "metadata": {
    "scrolled": true
   },
   "outputs": [
    {
     "data": {
      "text/plain": [
       "[WindowsPath('brain_tumor_dataset/no/10 no.jpg'),\n",
       " WindowsPath('brain_tumor_dataset/no/11 no.jpg'),\n",
       " WindowsPath('brain_tumor_dataset/no/12 no.jpg'),\n",
       " WindowsPath('brain_tumor_dataset/no/13 no.jpg'),\n",
       " WindowsPath('brain_tumor_dataset/no/14 no.jpg'),\n",
       " WindowsPath('brain_tumor_dataset/no/15 no.jpg'),\n",
       " WindowsPath('brain_tumor_dataset/no/17 no.jpg'),\n",
       " WindowsPath('brain_tumor_dataset/no/18 no.jpg'),\n",
       " WindowsPath('brain_tumor_dataset/no/19 no.jpg'),\n",
       " WindowsPath('brain_tumor_dataset/no/20 no.jpg'),\n",
       " WindowsPath('brain_tumor_dataset/no/21 no.jpg'),\n",
       " WindowsPath('brain_tumor_dataset/no/22 no.jpg'),\n",
       " WindowsPath('brain_tumor_dataset/no/23 no.jpg'),\n",
       " WindowsPath('brain_tumor_dataset/no/24 no.jpg'),\n",
       " WindowsPath('brain_tumor_dataset/no/25 no.jpg'),\n",
       " WindowsPath('brain_tumor_dataset/no/26 no.jpg'),\n",
       " WindowsPath('brain_tumor_dataset/no/27 no.jpg'),\n",
       " WindowsPath('brain_tumor_dataset/no/28 no.jpg'),\n",
       " WindowsPath('brain_tumor_dataset/no/29 no.jpg'),\n",
       " WindowsPath('brain_tumor_dataset/no/3 no.jpg'),\n",
       " WindowsPath('brain_tumor_dataset/no/30 no.jpg'),\n",
       " WindowsPath('brain_tumor_dataset/no/31 no.jpg'),\n",
       " WindowsPath('brain_tumor_dataset/no/32 no.jpg'),\n",
       " WindowsPath('brain_tumor_dataset/no/33 no.jpg'),\n",
       " WindowsPath('brain_tumor_dataset/no/34 no.jpg'),\n",
       " WindowsPath('brain_tumor_dataset/no/35 no.jpg'),\n",
       " WindowsPath('brain_tumor_dataset/no/36 no.jpg'),\n",
       " WindowsPath('brain_tumor_dataset/no/37 no.jpg'),\n",
       " WindowsPath('brain_tumor_dataset/no/38 no.jpg'),\n",
       " WindowsPath('brain_tumor_dataset/no/39 no.jpg'),\n",
       " WindowsPath('brain_tumor_dataset/no/4 no.jpg'),\n",
       " WindowsPath('brain_tumor_dataset/no/40 no.jpg'),\n",
       " WindowsPath('brain_tumor_dataset/no/41 no.jpg'),\n",
       " WindowsPath('brain_tumor_dataset/no/42 no.jpg'),\n",
       " WindowsPath('brain_tumor_dataset/no/43 no.jpg'),\n",
       " WindowsPath('brain_tumor_dataset/no/44no.jpg'),\n",
       " WindowsPath('brain_tumor_dataset/no/45 no.jpg'),\n",
       " WindowsPath('brain_tumor_dataset/no/46 no.jpg'),\n",
       " WindowsPath('brain_tumor_dataset/no/47 no.jpg'),\n",
       " WindowsPath('brain_tumor_dataset/no/49 no.jpg'),\n",
       " WindowsPath('brain_tumor_dataset/no/5 no.jpg'),\n",
       " WindowsPath('brain_tumor_dataset/no/50 no.jpg'),\n",
       " WindowsPath('brain_tumor_dataset/no/6 no.jpg'),\n",
       " WindowsPath('brain_tumor_dataset/no/7 no.jpg'),\n",
       " WindowsPath('brain_tumor_dataset/no/8 no.jpg'),\n",
       " WindowsPath('brain_tumor_dataset/no/9 no.jpg'),\n",
       " WindowsPath('brain_tumor_dataset/no/N1.JPG'),\n",
       " WindowsPath('brain_tumor_dataset/no/N11.jpg'),\n",
       " WindowsPath('brain_tumor_dataset/no/N15.jpg'),\n",
       " WindowsPath('brain_tumor_dataset/no/N16.jpg'),\n",
       " WindowsPath('brain_tumor_dataset/no/N17.jpg'),\n",
       " WindowsPath('brain_tumor_dataset/no/N19.JPG'),\n",
       " WindowsPath('brain_tumor_dataset/no/N2.JPG'),\n",
       " WindowsPath('brain_tumor_dataset/no/N20.JPG'),\n",
       " WindowsPath('brain_tumor_dataset/no/N21.jpg'),\n",
       " WindowsPath('brain_tumor_dataset/no/N22.JPG'),\n",
       " WindowsPath('brain_tumor_dataset/no/N26.JPG'),\n",
       " WindowsPath('brain_tumor_dataset/no/N3.jpg'),\n",
       " WindowsPath('brain_tumor_dataset/no/N5.jpg'),\n",
       " WindowsPath('brain_tumor_dataset/no/N6.jpg'),\n",
       " WindowsPath('brain_tumor_dataset/no/no 1.jpg'),\n",
       " WindowsPath('brain_tumor_dataset/no/no 10.jpg'),\n",
       " WindowsPath('brain_tumor_dataset/no/no 100.jpg'),\n",
       " WindowsPath('brain_tumor_dataset/no/no 2.jpg'),\n",
       " WindowsPath('brain_tumor_dataset/no/no 3.jpg'),\n",
       " WindowsPath('brain_tumor_dataset/no/no 4.jpg'),\n",
       " WindowsPath('brain_tumor_dataset/no/no 6.jpg'),\n",
       " WindowsPath('brain_tumor_dataset/no/no 8.jpg'),\n",
       " WindowsPath('brain_tumor_dataset/no/no 89.jpg'),\n",
       " WindowsPath('brain_tumor_dataset/no/no 90.jpg'),\n",
       " WindowsPath('brain_tumor_dataset/no/no 92.jpg'),\n",
       " WindowsPath('brain_tumor_dataset/no/no 923.jpg'),\n",
       " WindowsPath('brain_tumor_dataset/no/no 94.jpg'),\n",
       " WindowsPath('brain_tumor_dataset/no/no 95.jpg'),\n",
       " WindowsPath('brain_tumor_dataset/no/no 96.jpg'),\n",
       " WindowsPath('brain_tumor_dataset/no/no 97.jpg'),\n",
       " WindowsPath('brain_tumor_dataset/no/no 98.jpg'),\n",
       " WindowsPath('brain_tumor_dataset/no/no 99.jpg'),\n",
       " WindowsPath('brain_tumor_dataset/no/no.jpg'),\n",
       " WindowsPath('brain_tumor_dataset/no/No11.jpg'),\n",
       " WindowsPath('brain_tumor_dataset/no/No12.jpg'),\n",
       " WindowsPath('brain_tumor_dataset/no/No13.jpg'),\n",
       " WindowsPath('brain_tumor_dataset/no/No14.jpg'),\n",
       " WindowsPath('brain_tumor_dataset/no/No15.jpg'),\n",
       " WindowsPath('brain_tumor_dataset/no/No16.jpg'),\n",
       " WindowsPath('brain_tumor_dataset/no/No17.jpg'),\n",
       " WindowsPath('brain_tumor_dataset/no/No18.jpg'),\n",
       " WindowsPath('brain_tumor_dataset/no/No19.jpg'),\n",
       " WindowsPath('brain_tumor_dataset/no/No20.jpg'),\n",
       " WindowsPath('brain_tumor_dataset/no/No21.jpg'),\n",
       " WindowsPath('brain_tumor_dataset/no/No22.jpg'),\n",
       " WindowsPath('brain_tumor_dataset/yes/Y1.jpg'),\n",
       " WindowsPath('brain_tumor_dataset/yes/Y10.jpg'),\n",
       " WindowsPath('brain_tumor_dataset/yes/Y100.JPG'),\n",
       " WindowsPath('brain_tumor_dataset/yes/Y101.jpg'),\n",
       " WindowsPath('brain_tumor_dataset/yes/Y102.jpg'),\n",
       " WindowsPath('brain_tumor_dataset/yes/Y103.jpg'),\n",
       " WindowsPath('brain_tumor_dataset/yes/Y104.jpg'),\n",
       " WindowsPath('brain_tumor_dataset/yes/Y105.jpg'),\n",
       " WindowsPath('brain_tumor_dataset/yes/Y106.jpg'),\n",
       " WindowsPath('brain_tumor_dataset/yes/Y107.jpg'),\n",
       " WindowsPath('brain_tumor_dataset/yes/Y108.jpg'),\n",
       " WindowsPath('brain_tumor_dataset/yes/Y109.JPG'),\n",
       " WindowsPath('brain_tumor_dataset/yes/Y11.jpg'),\n",
       " WindowsPath('brain_tumor_dataset/yes/Y111.JPG'),\n",
       " WindowsPath('brain_tumor_dataset/yes/Y112.JPG'),\n",
       " WindowsPath('brain_tumor_dataset/yes/Y113.JPG'),\n",
       " WindowsPath('brain_tumor_dataset/yes/Y114.JPG'),\n",
       " WindowsPath('brain_tumor_dataset/yes/Y115.JPG'),\n",
       " WindowsPath('brain_tumor_dataset/yes/Y116.JPG'),\n",
       " WindowsPath('brain_tumor_dataset/yes/Y117.JPG'),\n",
       " WindowsPath('brain_tumor_dataset/yes/Y12.jpg'),\n",
       " WindowsPath('brain_tumor_dataset/yes/Y120.JPG'),\n",
       " WindowsPath('brain_tumor_dataset/yes/Y13.jpg'),\n",
       " WindowsPath('brain_tumor_dataset/yes/Y14.jpg'),\n",
       " WindowsPath('brain_tumor_dataset/yes/Y146.JPG'),\n",
       " WindowsPath('brain_tumor_dataset/yes/Y147.JPG'),\n",
       " WindowsPath('brain_tumor_dataset/yes/Y148.JPG'),\n",
       " WindowsPath('brain_tumor_dataset/yes/Y15.jpg'),\n",
       " WindowsPath('brain_tumor_dataset/yes/Y153.jpg'),\n",
       " WindowsPath('brain_tumor_dataset/yes/Y154.jpg'),\n",
       " WindowsPath('brain_tumor_dataset/yes/Y155.JPG'),\n",
       " WindowsPath('brain_tumor_dataset/yes/Y156.JPG'),\n",
       " WindowsPath('brain_tumor_dataset/yes/Y157.JPG'),\n",
       " WindowsPath('brain_tumor_dataset/yes/Y158.JPG'),\n",
       " WindowsPath('brain_tumor_dataset/yes/Y159.JPG'),\n",
       " WindowsPath('brain_tumor_dataset/yes/Y16.JPG'),\n",
       " WindowsPath('brain_tumor_dataset/yes/Y160.JPG'),\n",
       " WindowsPath('brain_tumor_dataset/yes/Y161.JPG'),\n",
       " WindowsPath('brain_tumor_dataset/yes/Y162.jpg'),\n",
       " WindowsPath('brain_tumor_dataset/yes/Y163.JPG'),\n",
       " WindowsPath('brain_tumor_dataset/yes/Y164.JPG'),\n",
       " WindowsPath('brain_tumor_dataset/yes/Y165.JPG'),\n",
       " WindowsPath('brain_tumor_dataset/yes/Y166.JPG'),\n",
       " WindowsPath('brain_tumor_dataset/yes/Y167.JPG'),\n",
       " WindowsPath('brain_tumor_dataset/yes/Y168.jpg'),\n",
       " WindowsPath('brain_tumor_dataset/yes/Y169.jpg'),\n",
       " WindowsPath('brain_tumor_dataset/yes/Y17.jpg'),\n",
       " WindowsPath('brain_tumor_dataset/yes/Y170.JPG'),\n",
       " WindowsPath('brain_tumor_dataset/yes/Y18.JPG'),\n",
       " WindowsPath('brain_tumor_dataset/yes/Y180.jpg'),\n",
       " WindowsPath('brain_tumor_dataset/yes/Y181.jpg'),\n",
       " WindowsPath('brain_tumor_dataset/yes/Y182.JPG'),\n",
       " WindowsPath('brain_tumor_dataset/yes/Y183.jpg'),\n",
       " WindowsPath('brain_tumor_dataset/yes/Y184.JPG'),\n",
       " WindowsPath('brain_tumor_dataset/yes/Y185.jpg'),\n",
       " WindowsPath('brain_tumor_dataset/yes/Y186.jpg'),\n",
       " WindowsPath('brain_tumor_dataset/yes/Y187.jpg'),\n",
       " WindowsPath('brain_tumor_dataset/yes/Y188.jpg'),\n",
       " WindowsPath('brain_tumor_dataset/yes/Y19.JPG'),\n",
       " WindowsPath('brain_tumor_dataset/yes/Y192.JPG'),\n",
       " WindowsPath('brain_tumor_dataset/yes/Y193.JPG'),\n",
       " WindowsPath('brain_tumor_dataset/yes/Y194.jpg'),\n",
       " WindowsPath('brain_tumor_dataset/yes/Y195.JPG'),\n",
       " WindowsPath('brain_tumor_dataset/yes/Y2.jpg'),\n",
       " WindowsPath('brain_tumor_dataset/yes/Y20.jpg'),\n",
       " WindowsPath('brain_tumor_dataset/yes/Y21.jpg'),\n",
       " WindowsPath('brain_tumor_dataset/yes/Y22.jpg'),\n",
       " WindowsPath('brain_tumor_dataset/yes/Y23.JPG'),\n",
       " WindowsPath('brain_tumor_dataset/yes/Y24.jpg'),\n",
       " WindowsPath('brain_tumor_dataset/yes/Y242.JPG'),\n",
       " WindowsPath('brain_tumor_dataset/yes/Y243.JPG'),\n",
       " WindowsPath('brain_tumor_dataset/yes/Y244.JPG'),\n",
       " WindowsPath('brain_tumor_dataset/yes/Y245.jpg'),\n",
       " WindowsPath('brain_tumor_dataset/yes/Y246.JPG'),\n",
       " WindowsPath('brain_tumor_dataset/yes/Y247.JPG'),\n",
       " WindowsPath('brain_tumor_dataset/yes/Y248.JPG'),\n",
       " WindowsPath('brain_tumor_dataset/yes/Y249.JPG'),\n",
       " WindowsPath('brain_tumor_dataset/yes/Y25.jpg'),\n",
       " WindowsPath('brain_tumor_dataset/yes/Y250.jpg'),\n",
       " WindowsPath('brain_tumor_dataset/yes/Y251.JPG'),\n",
       " WindowsPath('brain_tumor_dataset/yes/Y252.jpg'),\n",
       " WindowsPath('brain_tumor_dataset/yes/Y253.JPG'),\n",
       " WindowsPath('brain_tumor_dataset/yes/Y254.jpg'),\n",
       " WindowsPath('brain_tumor_dataset/yes/Y255.JPG'),\n",
       " WindowsPath('brain_tumor_dataset/yes/Y256.JPG'),\n",
       " WindowsPath('brain_tumor_dataset/yes/Y257.jpg'),\n",
       " WindowsPath('brain_tumor_dataset/yes/Y258.JPG'),\n",
       " WindowsPath('brain_tumor_dataset/yes/Y259.JPG'),\n",
       " WindowsPath('brain_tumor_dataset/yes/Y26.jpg'),\n",
       " WindowsPath('brain_tumor_dataset/yes/Y27.jpg'),\n",
       " WindowsPath('brain_tumor_dataset/yes/Y28.jpg'),\n",
       " WindowsPath('brain_tumor_dataset/yes/Y29.jpg'),\n",
       " WindowsPath('brain_tumor_dataset/yes/Y3.jpg'),\n",
       " WindowsPath('brain_tumor_dataset/yes/Y30.jpg'),\n",
       " WindowsPath('brain_tumor_dataset/yes/Y31.jpg'),\n",
       " WindowsPath('brain_tumor_dataset/yes/Y32.jpg'),\n",
       " WindowsPath('brain_tumor_dataset/yes/Y33.jpg'),\n",
       " WindowsPath('brain_tumor_dataset/yes/Y34.jpg'),\n",
       " WindowsPath('brain_tumor_dataset/yes/Y35.jpg'),\n",
       " WindowsPath('brain_tumor_dataset/yes/Y36.JPG'),\n",
       " WindowsPath('brain_tumor_dataset/yes/Y37.jpg'),\n",
       " WindowsPath('brain_tumor_dataset/yes/Y38.jpg'),\n",
       " WindowsPath('brain_tumor_dataset/yes/Y39.jpg'),\n",
       " WindowsPath('brain_tumor_dataset/yes/Y4.jpg'),\n",
       " WindowsPath('brain_tumor_dataset/yes/Y40.JPG'),\n",
       " WindowsPath('brain_tumor_dataset/yes/Y41.jpg'),\n",
       " WindowsPath('brain_tumor_dataset/yes/Y42.jpg'),\n",
       " WindowsPath('brain_tumor_dataset/yes/Y44.JPG'),\n",
       " WindowsPath('brain_tumor_dataset/yes/Y45.JPG'),\n",
       " WindowsPath('brain_tumor_dataset/yes/Y46.jpg'),\n",
       " WindowsPath('brain_tumor_dataset/yes/Y47.JPG'),\n",
       " WindowsPath('brain_tumor_dataset/yes/Y49.JPG'),\n",
       " WindowsPath('brain_tumor_dataset/yes/Y50.JPG'),\n",
       " WindowsPath('brain_tumor_dataset/yes/Y51.jpg'),\n",
       " WindowsPath('brain_tumor_dataset/yes/Y52.jpg'),\n",
       " WindowsPath('brain_tumor_dataset/yes/Y53.jpg'),\n",
       " WindowsPath('brain_tumor_dataset/yes/Y54.jpg'),\n",
       " WindowsPath('brain_tumor_dataset/yes/Y55.jpg'),\n",
       " WindowsPath('brain_tumor_dataset/yes/Y56.jpg'),\n",
       " WindowsPath('brain_tumor_dataset/yes/Y58.JPG'),\n",
       " WindowsPath('brain_tumor_dataset/yes/Y59.JPG'),\n",
       " WindowsPath('brain_tumor_dataset/yes/Y6.jpg'),\n",
       " WindowsPath('brain_tumor_dataset/yes/Y60.jpg'),\n",
       " WindowsPath('brain_tumor_dataset/yes/Y61.jpg'),\n",
       " WindowsPath('brain_tumor_dataset/yes/Y62.jpg'),\n",
       " WindowsPath('brain_tumor_dataset/yes/Y65.JPG'),\n",
       " WindowsPath('brain_tumor_dataset/yes/Y66.JPG'),\n",
       " WindowsPath('brain_tumor_dataset/yes/Y67.JPG'),\n",
       " WindowsPath('brain_tumor_dataset/yes/Y69.jpg'),\n",
       " WindowsPath('brain_tumor_dataset/yes/Y7.jpg'),\n",
       " WindowsPath('brain_tumor_dataset/yes/Y70.jpg'),\n",
       " WindowsPath('brain_tumor_dataset/yes/Y71.JPG'),\n",
       " WindowsPath('brain_tumor_dataset/yes/Y73.jpg'),\n",
       " WindowsPath('brain_tumor_dataset/yes/Y74.jpg'),\n",
       " WindowsPath('brain_tumor_dataset/yes/Y75.JPG'),\n",
       " WindowsPath('brain_tumor_dataset/yes/Y76.jpg'),\n",
       " WindowsPath('brain_tumor_dataset/yes/Y77.jpg'),\n",
       " WindowsPath('brain_tumor_dataset/yes/Y78.jpg'),\n",
       " WindowsPath('brain_tumor_dataset/yes/Y79.jpg'),\n",
       " WindowsPath('brain_tumor_dataset/yes/Y8.jpg'),\n",
       " WindowsPath('brain_tumor_dataset/yes/Y81.jpg'),\n",
       " WindowsPath('brain_tumor_dataset/yes/Y82.jpg'),\n",
       " WindowsPath('brain_tumor_dataset/yes/Y85.JPG'),\n",
       " WindowsPath('brain_tumor_dataset/yes/Y86.JPG'),\n",
       " WindowsPath('brain_tumor_dataset/yes/Y89.JPG'),\n",
       " WindowsPath('brain_tumor_dataset/yes/Y9.jpg'),\n",
       " WindowsPath('brain_tumor_dataset/yes/Y90.jpg'),\n",
       " WindowsPath('brain_tumor_dataset/yes/Y91.jpg'),\n",
       " WindowsPath('brain_tumor_dataset/yes/Y92.jpg'),\n",
       " WindowsPath('brain_tumor_dataset/yes/Y95.jpg'),\n",
       " WindowsPath('brain_tumor_dataset/yes/Y96.jpg'),\n",
       " WindowsPath('brain_tumor_dataset/yes/Y97.JPG'),\n",
       " WindowsPath('brain_tumor_dataset/yes/Y98.JPG'),\n",
       " WindowsPath('brain_tumor_dataset/yes/Y99.JPG')]"
      ]
     },
     "execution_count": 3,
     "metadata": {},
     "output_type": "execute_result"
    }
   ],
   "source": [
    "list(data_dir.glob('*/*.jpg'))"
   ]
  },
  {
   "cell_type": "code",
   "execution_count": 4,
   "id": "fb02a107-2540-4656-92e2-2664f10f1444",
   "metadata": {},
   "outputs": [],
   "source": [
    "# def removing_images(path):\n",
    "#     for i,images in enumerate(path):\n",
    "#         for image in images:\n",
    "#             jpg_image=image.endswith('.jpg')\n",
    "#             if image != jpg_image:\n",
    "#                 os.remove(image[i])"
   ]
  },
  {
   "cell_type": "code",
   "execution_count": 5,
   "id": "af6b7caa-2a01-4424-997d-a9d20d470d0b",
   "metadata": {},
   "outputs": [],
   "source": [
    "# removing_images(yes)"
   ]
  },
  {
   "cell_type": "code",
   "execution_count": 6,
   "id": "419348ef-4c57-44b4-aa06-c582726191d8",
   "metadata": {},
   "outputs": [
    {
     "data": {
      "text/plain": [
       "[WindowsPath('brain_tumor_dataset/yes/Y1.jpg'),\n",
       " WindowsPath('brain_tumor_dataset/yes/Y10.jpg'),\n",
       " WindowsPath('brain_tumor_dataset/yes/Y100.JPG'),\n",
       " WindowsPath('brain_tumor_dataset/yes/Y101.jpg'),\n",
       " WindowsPath('brain_tumor_dataset/yes/Y102.jpg')]"
      ]
     },
     "execution_count": 6,
     "metadata": {},
     "output_type": "execute_result"
    }
   ],
   "source": [
    "yes=list(data_dir.glob('*yes/*'))\n",
    "yes[:5]"
   ]
  },
  {
   "cell_type": "code",
   "execution_count": 7,
   "id": "3fd54212-7f1d-41a8-b530-b7d997718f6a",
   "metadata": {
    "scrolled": true
   },
   "outputs": [
    {
     "name": "stdout",
     "output_type": "stream",
     "text": [
      "[[[3 3 3]\n",
      "  [3 3 3]\n",
      "  [3 3 3]\n",
      "  ...\n",
      "  [2 2 2]\n",
      "  [2 2 2]\n",
      "  [2 2 2]]\n",
      "\n",
      " [[3 3 3]\n",
      "  [3 3 3]\n",
      "  [3 3 3]\n",
      "  ...\n",
      "  [2 2 2]\n",
      "  [2 2 2]\n",
      "  [2 2 2]]\n",
      "\n",
      " [[3 3 3]\n",
      "  [3 3 3]\n",
      "  [3 3 3]\n",
      "  ...\n",
      "  [2 2 2]\n",
      "  [2 2 2]\n",
      "  [2 2 2]]\n",
      "\n",
      " ...\n",
      "\n",
      " [[2 2 2]\n",
      "  [2 2 2]\n",
      "  [2 2 2]\n",
      "  ...\n",
      "  [2 2 2]\n",
      "  [3 3 3]\n",
      "  [3 3 3]]\n",
      "\n",
      " [[2 2 2]\n",
      "  [2 2 2]\n",
      "  [2 2 2]\n",
      "  ...\n",
      "  [1 1 1]\n",
      "  [1 1 1]\n",
      "  [2 2 2]]\n",
      "\n",
      " [[2 2 2]\n",
      "  [2 2 2]\n",
      "  [2 2 2]\n",
      "  ...\n",
      "  [1 1 1]\n",
      "  [1 1 1]\n",
      "  [2 2 2]]]\n"
     ]
    }
   ],
   "source": [
    "image=cv2.imread(str(yes[0]))\n",
    "print(image)"
   ]
  },
  {
   "cell_type": "code",
   "execution_count": 8,
   "id": "cc0c7e10-dca7-4c5c-a304-0a70d553e800",
   "metadata": {},
   "outputs": [
    {
     "data": {
      "text/plain": [
       "(218, 180, 3)"
      ]
     },
     "execution_count": 8,
     "metadata": {},
     "output_type": "execute_result"
    }
   ],
   "source": [
    "image.shape"
   ]
  },
  {
   "cell_type": "code",
   "execution_count": 9,
   "id": "d90ce486-05df-456a-9912-eba0239b4f9d",
   "metadata": {},
   "outputs": [],
   "source": [
    "tumor_images_path={\n",
    "    'yes':list(data_dir.glob('*yes/*.jpg')),\n",
    "    'no':list(data_dir.glob('*no/*.jpg')),\n",
    "}"
   ]
  },
  {
   "cell_type": "code",
   "execution_count": 10,
   "id": "1c3af2e8-57fe-4928-b26b-f83021217530",
   "metadata": {
    "scrolled": true
   },
   "outputs": [
    {
     "data": {
      "text/plain": [
       "[WindowsPath('brain_tumor_dataset/no/10 no.jpg'),\n",
       " WindowsPath('brain_tumor_dataset/no/11 no.jpg'),\n",
       " WindowsPath('brain_tumor_dataset/no/12 no.jpg'),\n",
       " WindowsPath('brain_tumor_dataset/no/13 no.jpg'),\n",
       " WindowsPath('brain_tumor_dataset/no/14 no.jpg'),\n",
       " WindowsPath('brain_tumor_dataset/no/15 no.jpg'),\n",
       " WindowsPath('brain_tumor_dataset/no/17 no.jpg'),\n",
       " WindowsPath('brain_tumor_dataset/no/18 no.jpg'),\n",
       " WindowsPath('brain_tumor_dataset/no/19 no.jpg'),\n",
       " WindowsPath('brain_tumor_dataset/no/20 no.jpg'),\n",
       " WindowsPath('brain_tumor_dataset/no/21 no.jpg'),\n",
       " WindowsPath('brain_tumor_dataset/no/22 no.jpg'),\n",
       " WindowsPath('brain_tumor_dataset/no/23 no.jpg'),\n",
       " WindowsPath('brain_tumor_dataset/no/24 no.jpg'),\n",
       " WindowsPath('brain_tumor_dataset/no/25 no.jpg'),\n",
       " WindowsPath('brain_tumor_dataset/no/26 no.jpg'),\n",
       " WindowsPath('brain_tumor_dataset/no/27 no.jpg'),\n",
       " WindowsPath('brain_tumor_dataset/no/28 no.jpg'),\n",
       " WindowsPath('brain_tumor_dataset/no/29 no.jpg'),\n",
       " WindowsPath('brain_tumor_dataset/no/3 no.jpg'),\n",
       " WindowsPath('brain_tumor_dataset/no/30 no.jpg'),\n",
       " WindowsPath('brain_tumor_dataset/no/31 no.jpg'),\n",
       " WindowsPath('brain_tumor_dataset/no/32 no.jpg'),\n",
       " WindowsPath('brain_tumor_dataset/no/33 no.jpg'),\n",
       " WindowsPath('brain_tumor_dataset/no/34 no.jpg'),\n",
       " WindowsPath('brain_tumor_dataset/no/35 no.jpg'),\n",
       " WindowsPath('brain_tumor_dataset/no/36 no.jpg'),\n",
       " WindowsPath('brain_tumor_dataset/no/37 no.jpg'),\n",
       " WindowsPath('brain_tumor_dataset/no/38 no.jpg'),\n",
       " WindowsPath('brain_tumor_dataset/no/39 no.jpg'),\n",
       " WindowsPath('brain_tumor_dataset/no/4 no.jpg'),\n",
       " WindowsPath('brain_tumor_dataset/no/40 no.jpg'),\n",
       " WindowsPath('brain_tumor_dataset/no/41 no.jpg'),\n",
       " WindowsPath('brain_tumor_dataset/no/42 no.jpg'),\n",
       " WindowsPath('brain_tumor_dataset/no/43 no.jpg'),\n",
       " WindowsPath('brain_tumor_dataset/no/44no.jpg'),\n",
       " WindowsPath('brain_tumor_dataset/no/45 no.jpg'),\n",
       " WindowsPath('brain_tumor_dataset/no/46 no.jpg'),\n",
       " WindowsPath('brain_tumor_dataset/no/47 no.jpg'),\n",
       " WindowsPath('brain_tumor_dataset/no/49 no.jpg'),\n",
       " WindowsPath('brain_tumor_dataset/no/5 no.jpg'),\n",
       " WindowsPath('brain_tumor_dataset/no/50 no.jpg'),\n",
       " WindowsPath('brain_tumor_dataset/no/6 no.jpg'),\n",
       " WindowsPath('brain_tumor_dataset/no/7 no.jpg'),\n",
       " WindowsPath('brain_tumor_dataset/no/8 no.jpg'),\n",
       " WindowsPath('brain_tumor_dataset/no/9 no.jpg'),\n",
       " WindowsPath('brain_tumor_dataset/no/N1.JPG'),\n",
       " WindowsPath('brain_tumor_dataset/no/N11.jpg'),\n",
       " WindowsPath('brain_tumor_dataset/no/N15.jpg'),\n",
       " WindowsPath('brain_tumor_dataset/no/N16.jpg'),\n",
       " WindowsPath('brain_tumor_dataset/no/N17.jpg'),\n",
       " WindowsPath('brain_tumor_dataset/no/N19.JPG'),\n",
       " WindowsPath('brain_tumor_dataset/no/N2.JPG'),\n",
       " WindowsPath('brain_tumor_dataset/no/N20.JPG'),\n",
       " WindowsPath('brain_tumor_dataset/no/N21.jpg'),\n",
       " WindowsPath('brain_tumor_dataset/no/N22.JPG'),\n",
       " WindowsPath('brain_tumor_dataset/no/N26.JPG'),\n",
       " WindowsPath('brain_tumor_dataset/no/N3.jpg'),\n",
       " WindowsPath('brain_tumor_dataset/no/N5.jpg'),\n",
       " WindowsPath('brain_tumor_dataset/no/N6.jpg'),\n",
       " WindowsPath('brain_tumor_dataset/no/no 1.jpg'),\n",
       " WindowsPath('brain_tumor_dataset/no/no 10.jpg'),\n",
       " WindowsPath('brain_tumor_dataset/no/no 100.jpg'),\n",
       " WindowsPath('brain_tumor_dataset/no/no 2.jpg'),\n",
       " WindowsPath('brain_tumor_dataset/no/no 3.jpg'),\n",
       " WindowsPath('brain_tumor_dataset/no/no 4.jpg'),\n",
       " WindowsPath('brain_tumor_dataset/no/no 6.jpg'),\n",
       " WindowsPath('brain_tumor_dataset/no/no 8.jpg'),\n",
       " WindowsPath('brain_tumor_dataset/no/no 89.jpg'),\n",
       " WindowsPath('brain_tumor_dataset/no/no 90.jpg'),\n",
       " WindowsPath('brain_tumor_dataset/no/no 92.jpg'),\n",
       " WindowsPath('brain_tumor_dataset/no/no 923.jpg'),\n",
       " WindowsPath('brain_tumor_dataset/no/no 94.jpg'),\n",
       " WindowsPath('brain_tumor_dataset/no/no 95.jpg'),\n",
       " WindowsPath('brain_tumor_dataset/no/no 96.jpg'),\n",
       " WindowsPath('brain_tumor_dataset/no/no 97.jpg'),\n",
       " WindowsPath('brain_tumor_dataset/no/no 98.jpg'),\n",
       " WindowsPath('brain_tumor_dataset/no/no 99.jpg'),\n",
       " WindowsPath('brain_tumor_dataset/no/no.jpg'),\n",
       " WindowsPath('brain_tumor_dataset/no/No11.jpg'),\n",
       " WindowsPath('brain_tumor_dataset/no/No12.jpg'),\n",
       " WindowsPath('brain_tumor_dataset/no/No13.jpg'),\n",
       " WindowsPath('brain_tumor_dataset/no/No14.jpg'),\n",
       " WindowsPath('brain_tumor_dataset/no/No15.jpg'),\n",
       " WindowsPath('brain_tumor_dataset/no/No16.jpg'),\n",
       " WindowsPath('brain_tumor_dataset/no/No17.jpg'),\n",
       " WindowsPath('brain_tumor_dataset/no/No18.jpg'),\n",
       " WindowsPath('brain_tumor_dataset/no/No19.jpg'),\n",
       " WindowsPath('brain_tumor_dataset/no/No20.jpg'),\n",
       " WindowsPath('brain_tumor_dataset/no/No21.jpg'),\n",
       " WindowsPath('brain_tumor_dataset/no/No22.jpg')]"
      ]
     },
     "execution_count": 10,
     "metadata": {},
     "output_type": "execute_result"
    }
   ],
   "source": [
    "tumor_images_path['no']"
   ]
  },
  {
   "cell_type": "code",
   "execution_count": 11,
   "id": "76c46f21-2e3d-4c03-b66b-d55df2ac45e2",
   "metadata": {},
   "outputs": [
    {
     "data": {
      "text/plain": [
       "WindowsPath('brain_tumor_dataset/yes/Y1.jpg')"
      ]
     },
     "execution_count": 11,
     "metadata": {},
     "output_type": "execute_result"
    }
   ],
   "source": [
    "tumor_images_path['yes'][0]"
   ]
  },
  {
   "cell_type": "code",
   "execution_count": 12,
   "id": "87eb77c7-cad3-4657-8505-babb8249256b",
   "metadata": {
    "scrolled": true
   },
   "outputs": [
    {
     "data": {
      "text/plain": [
       "array([[[3, 3, 3],\n",
       "        [3, 3, 3],\n",
       "        [3, 3, 3],\n",
       "        ...,\n",
       "        [2, 2, 2],\n",
       "        [2, 2, 2],\n",
       "        [2, 2, 2]],\n",
       "\n",
       "       [[3, 3, 3],\n",
       "        [3, 3, 3],\n",
       "        [3, 3, 3],\n",
       "        ...,\n",
       "        [2, 2, 2],\n",
       "        [2, 2, 2],\n",
       "        [2, 2, 2]],\n",
       "\n",
       "       [[3, 3, 3],\n",
       "        [3, 3, 3],\n",
       "        [3, 3, 3],\n",
       "        ...,\n",
       "        [2, 2, 2],\n",
       "        [2, 2, 2],\n",
       "        [2, 2, 2]],\n",
       "\n",
       "       ...,\n",
       "\n",
       "       [[2, 2, 2],\n",
       "        [2, 2, 2],\n",
       "        [2, 2, 2],\n",
       "        ...,\n",
       "        [2, 2, 2],\n",
       "        [3, 3, 3],\n",
       "        [3, 3, 3]],\n",
       "\n",
       "       [[2, 2, 2],\n",
       "        [2, 2, 2],\n",
       "        [2, 2, 2],\n",
       "        ...,\n",
       "        [1, 1, 1],\n",
       "        [1, 1, 1],\n",
       "        [2, 2, 2]],\n",
       "\n",
       "       [[2, 2, 2],\n",
       "        [2, 2, 2],\n",
       "        [2, 2, 2],\n",
       "        ...,\n",
       "        [1, 1, 1],\n",
       "        [1, 1, 1],\n",
       "        [2, 2, 2]]], dtype=uint8)"
      ]
     },
     "execution_count": 12,
     "metadata": {},
     "output_type": "execute_result"
    }
   ],
   "source": [
    "import matplotlib.pyplot as plt\n",
    "def reading_images(index):\n",
    "    image=cv2.imread(str(tumor_images_path['yes'][index]))\n",
    "    return image\n",
    "image1=reading_images(0)\n",
    "image1"
   ]
  },
  {
   "cell_type": "code",
   "execution_count": 13,
   "id": "9232b43a-4eeb-483d-ad84-aea322046281",
   "metadata": {},
   "outputs": [
    {
     "data": {
      "text/plain": [
       "(218, 180, 3)"
      ]
     },
     "execution_count": 13,
     "metadata": {},
     "output_type": "execute_result"
    }
   ],
   "source": [
    "image1.shape"
   ]
  },
  {
   "cell_type": "code",
   "execution_count": 14,
   "id": "c371db53-bdf6-4ebf-8179-bc916b0668b9",
   "metadata": {},
   "outputs": [
    {
     "data": {
      "text/plain": [
       "(255, 255, 3)"
      ]
     },
     "execution_count": 14,
     "metadata": {},
     "output_type": "execute_result"
    }
   ],
   "source": [
    "resized_image1=cv2.resize(image1,(255,255,))\n",
    "resized_image1.shape"
   ]
  },
  {
   "cell_type": "code",
   "execution_count": 15,
   "id": "1deb0d9c-8bc4-4c24-80fe-0c8f9ca86b55",
   "metadata": {
    "scrolled": true
   },
   "outputs": [
    {
     "data": {
      "text/plain": [
       "array([[[255, 255, 255],\n",
       "        [255, 255, 255],\n",
       "        [255, 255, 255],\n",
       "        ...,\n",
       "        [252, 252, 252],\n",
       "        [247, 247, 247],\n",
       "        [250, 250, 250]],\n",
       "\n",
       "       [[255, 255, 255],\n",
       "        [255, 255, 255],\n",
       "        [255, 255, 255],\n",
       "        ...,\n",
       "        [249, 249, 249],\n",
       "        [250, 250, 250],\n",
       "        [248, 248, 248]],\n",
       "\n",
       "       [[255, 255, 255],\n",
       "        [253, 253, 253],\n",
       "        [234, 234, 234],\n",
       "        ...,\n",
       "        [233, 233, 233],\n",
       "        [252, 252, 252],\n",
       "        [252, 252, 252]],\n",
       "\n",
       "       ...,\n",
       "\n",
       "       [[255, 255, 255],\n",
       "        [253, 253, 253],\n",
       "        [234, 234, 234],\n",
       "        ...,\n",
       "        [233, 233, 233],\n",
       "        [254, 254, 254],\n",
       "        [255, 255, 255]],\n",
       "\n",
       "       [[255, 255, 255],\n",
       "        [255, 255, 255],\n",
       "        [255, 255, 255],\n",
       "        ...,\n",
       "        [249, 249, 249],\n",
       "        [251, 251, 251],\n",
       "        [251, 251, 251]],\n",
       "\n",
       "       [[255, 255, 255],\n",
       "        [255, 255, 255],\n",
       "        [255, 255, 255],\n",
       "        ...,\n",
       "        [252, 252, 252],\n",
       "        [249, 249, 249],\n",
       "        [253, 253, 253]]], dtype=uint8)"
      ]
     },
     "execution_count": 15,
     "metadata": {},
     "output_type": "execute_result"
    }
   ],
   "source": [
    "image2=reading_images(1)\n",
    "image2"
   ]
  },
  {
   "cell_type": "code",
   "execution_count": 16,
   "id": "7c847862-ac33-4e26-afb6-c5b8a40adf38",
   "metadata": {},
   "outputs": [],
   "source": [
    "resized_image2=cv2.resize(image2,(255,255,))"
   ]
  },
  {
   "cell_type": "code",
   "execution_count": 17,
   "id": "625e7e04-019c-4490-b295-bee207e9b8c1",
   "metadata": {
    "scrolled": true
   },
   "outputs": [
    {
     "data": {
      "text/plain": [
       "array([[[1.        , 1.        , 1.        ],\n",
       "        [1.        , 1.        , 1.        ],\n",
       "        [0.99607843, 0.99607843, 0.99607843],\n",
       "        ...,\n",
       "        [0.98823529, 0.98823529, 0.98823529],\n",
       "        [0.97647059, 0.97647059, 0.97647059],\n",
       "        [0.97647059, 0.97647059, 0.97647059]],\n",
       "\n",
       "       [[1.        , 1.        , 1.        ],\n",
       "        [0.97647059, 0.97647059, 0.97647059],\n",
       "        [0.90588235, 0.90588235, 0.90588235],\n",
       "        ...,\n",
       "        [0.88627451, 0.88627451, 0.88627451],\n",
       "        [0.96470588, 0.96470588, 0.96470588],\n",
       "        [0.98039216, 0.98039216, 0.98039216]],\n",
       "\n",
       "       [[0.99215686, 0.99215686, 0.99215686],\n",
       "        [0.88627451, 0.88627451, 0.88627451],\n",
       "        [0.64313725, 0.64313725, 0.64313725],\n",
       "        ...,\n",
       "        [0.64313725, 0.64313725, 0.64313725],\n",
       "        [0.9254902 , 0.9254902 , 0.9254902 ],\n",
       "        [1.        , 1.        , 1.        ]],\n",
       "\n",
       "       ...,\n",
       "\n",
       "       [[0.99215686, 0.99215686, 0.99215686],\n",
       "        [0.88627451, 0.88627451, 0.88627451],\n",
       "        [0.64313725, 0.64313725, 0.64313725],\n",
       "        ...,\n",
       "        [0.64313725, 0.64313725, 0.64313725],\n",
       "        [0.92941176, 0.92941176, 0.92941176],\n",
       "        [1.        , 1.        , 1.        ]],\n",
       "\n",
       "       [[1.        , 1.        , 1.        ],\n",
       "        [0.97647059, 0.97647059, 0.97647059],\n",
       "        [0.90588235, 0.90588235, 0.90588235],\n",
       "        ...,\n",
       "        [0.88627451, 0.88627451, 0.88627451],\n",
       "        [0.97254902, 0.97254902, 0.97254902],\n",
       "        [0.99215686, 0.99215686, 0.99215686]],\n",
       "\n",
       "       [[1.        , 1.        , 1.        ],\n",
       "        [1.        , 1.        , 1.        ],\n",
       "        [0.99607843, 0.99607843, 0.99607843],\n",
       "        ...,\n",
       "        [0.98823529, 0.98823529, 0.98823529],\n",
       "        [0.98039216, 0.98039216, 0.98039216],\n",
       "        [0.98823529, 0.98823529, 0.98823529]]])"
      ]
     },
     "execution_count": 17,
     "metadata": {},
     "output_type": "execute_result"
    }
   ],
   "source": [
    "resized_image2/255"
   ]
  },
  {
   "cell_type": "code",
   "execution_count": 18,
   "id": "7233972e-50d4-4129-ac5b-98509242b39b",
   "metadata": {
    "scrolled": true
   },
   "outputs": [
    {
     "data": {
      "text/plain": [
       "array([[[0.01176471, 0.01176471, 0.01176471],\n",
       "        [0.01176471, 0.01176471, 0.01176471],\n",
       "        [0.01176471, 0.01176471, 0.01176471],\n",
       "        ...,\n",
       "        [0.00784314, 0.00784314, 0.00784314],\n",
       "        [0.00784314, 0.00784314, 0.00784314],\n",
       "        [0.00784314, 0.00784314, 0.00784314]],\n",
       "\n",
       "       [[0.01176471, 0.01176471, 0.01176471],\n",
       "        [0.01176471, 0.01176471, 0.01176471],\n",
       "        [0.01176471, 0.01176471, 0.01176471],\n",
       "        ...,\n",
       "        [0.00784314, 0.00784314, 0.00784314],\n",
       "        [0.00784314, 0.00784314, 0.00784314],\n",
       "        [0.00784314, 0.00784314, 0.00784314]],\n",
       "\n",
       "       [[0.01176471, 0.01176471, 0.01176471],\n",
       "        [0.01176471, 0.01176471, 0.01176471],\n",
       "        [0.01176471, 0.01176471, 0.01176471],\n",
       "        ...,\n",
       "        [0.00784314, 0.00784314, 0.00784314],\n",
       "        [0.00784314, 0.00784314, 0.00784314],\n",
       "        [0.00784314, 0.00784314, 0.00784314]],\n",
       "\n",
       "       ...,\n",
       "\n",
       "       [[0.00784314, 0.00784314, 0.00784314],\n",
       "        [0.00784314, 0.00784314, 0.00784314],\n",
       "        [0.00784314, 0.00784314, 0.00784314],\n",
       "        ...,\n",
       "        [0.00784314, 0.00784314, 0.00784314],\n",
       "        [0.00784314, 0.00784314, 0.00784314],\n",
       "        [0.00784314, 0.00784314, 0.00784314]],\n",
       "\n",
       "       [[0.00784314, 0.00784314, 0.00784314],\n",
       "        [0.00784314, 0.00784314, 0.00784314],\n",
       "        [0.00784314, 0.00784314, 0.00784314],\n",
       "        ...,\n",
       "        [0.00392157, 0.00392157, 0.00392157],\n",
       "        [0.00392157, 0.00392157, 0.00392157],\n",
       "        [0.00784314, 0.00784314, 0.00784314]],\n",
       "\n",
       "       [[0.00784314, 0.00784314, 0.00784314],\n",
       "        [0.00784314, 0.00784314, 0.00784314],\n",
       "        [0.00784314, 0.00784314, 0.00784314],\n",
       "        ...,\n",
       "        [0.00392157, 0.00392157, 0.00392157],\n",
       "        [0.00392157, 0.00392157, 0.00392157],\n",
       "        [0.00784314, 0.00784314, 0.00784314]]])"
      ]
     },
     "execution_count": 18,
     "metadata": {},
     "output_type": "execute_result"
    }
   ],
   "source": [
    "resized_image1/255"
   ]
  },
  {
   "cell_type": "code",
   "execution_count": 19,
   "id": "7a9aace1-a207-4b0f-902e-8acf45ca99e1",
   "metadata": {},
   "outputs": [],
   "source": [
    "labels={\n",
    "    'no':0,\n",
    "    'yes':1,\n",
    "}"
   ]
  },
  {
   "cell_type": "code",
   "execution_count": 20,
   "id": "2f688b67-07b6-4e8c-beb6-6af9f6c91911",
   "metadata": {},
   "outputs": [
    {
     "name": "stderr",
     "output_type": "stream",
     "text": [
      "100%|████████████████████████████████████████████████████████████████████████████████████| 2/2 [00:01<00:00,  1.25it/s]\n"
     ]
    }
   ],
   "source": [
    "# We have to reshape it \n",
    "# Importing tqdm for progress bar\n",
    "\n",
    "from tqdm import tqdm \n",
    "X,y=[],[]\n",
    "for names,paths in tqdm(tumor_images_path.items()):\n",
    "    for path in paths:\n",
    "        image=cv2.imread(str(path))\n",
    "        resized_image=cv2.resize(image,(255,255,))\n",
    "        X.append(resized_image)\n",
    "        y.append(labels[names])\n",
    "  "
   ]
  },
  {
   "cell_type": "code",
   "execution_count": 21,
   "id": "5fc4c924-a194-41df-8027-ccc7e6654d74",
   "metadata": {},
   "outputs": [],
   "source": [
    "import numpy as np"
   ]
  },
  {
   "cell_type": "code",
   "execution_count": 22,
   "id": "97154553-b8f7-4d62-99b5-d6c0e29d6303",
   "metadata": {},
   "outputs": [],
   "source": [
    "X=np.array(X)\n",
    "y=np.array(y)"
   ]
  },
  {
   "cell_type": "code",
   "execution_count": 23,
   "id": "bfb70ea5-b2f9-47c2-8b07-0a411397a031",
   "metadata": {},
   "outputs": [],
   "source": [
    "from sklearn.model_selection import train_test_split\n",
    "X_train,X_test,y_train,y_test=train_test_split(X,y,test_size=0.2,stratify=y)"
   ]
  },
  {
   "cell_type": "code",
   "execution_count": 24,
   "id": "a523ae9b-cd59-4e94-a29f-9b1d6f65eefd",
   "metadata": {},
   "outputs": [
    {
     "data": {
      "text/plain": [
       "196"
      ]
     },
     "execution_count": 24,
     "metadata": {},
     "output_type": "execute_result"
    }
   ],
   "source": [
    "len(y_train)"
   ]
  },
  {
   "cell_type": "code",
   "execution_count": 25,
   "id": "06c065c2-2cc2-4fed-a867-2c3c5104356e",
   "metadata": {},
   "outputs": [],
   "source": [
    "X_train=X_train/255\n",
    "X_test=X_test/255"
   ]
  },
  {
   "cell_type": "code",
   "execution_count": 26,
   "id": "383c66ea-d23e-48c7-b446-dc43092a7f0c",
   "metadata": {},
   "outputs": [],
   "source": [
    "from tensorflow.keras import Sequential\n",
    "from tensorflow.keras.layers import Dense,Conv2D,MaxPool2D,Flatten,RandomFlip,RandomRotation,RandomZoom"
   ]
  },
  {
   "cell_type": "code",
   "execution_count": 28,
   "id": "9d30d0c4-4b2a-4b56-84e6-005e4e1e7b52",
   "metadata": {},
   "outputs": [
    {
     "name": "stderr",
     "output_type": "stream",
     "text": [
      "C:\\Users\\PCR\\AppData\\Local\\Programs\\Python\\Python312\\Lib\\site-packages\\keras\\src\\layers\\preprocessing\\tf_data_layer.py:18: UserWarning: Do not pass an `input_shape`/`input_dim` argument to a layer. When using Sequential models, prefer using an `Input(shape)` object as the first layer in the model instead.\n",
      "  super().__init__(**kwargs)\n"
     ]
    },
    {
     "data": {
      "text/html": [
       "<pre style=\"white-space:pre;overflow-x:auto;line-height:normal;font-family:Menlo,'DejaVu Sans Mono',consolas,'Courier New',monospace\"><span style=\"font-weight: bold\">Model: \"sequential\"</span>\n",
       "</pre>\n"
      ],
      "text/plain": [
       "\u001b[1mModel: \"sequential\"\u001b[0m\n"
      ]
     },
     "metadata": {},
     "output_type": "display_data"
    },
    {
     "data": {
      "text/html": [
       "<pre style=\"white-space:pre;overflow-x:auto;line-height:normal;font-family:Menlo,'DejaVu Sans Mono',consolas,'Courier New',monospace\">┏━━━━━━━━━━━━━━━━━━━━━━━━━━━━━━━━━━━━━━┳━━━━━━━━━━━━━━━━━━━━━━━━━━━━━┳━━━━━━━━━━━━━━━━━┓\n",
       "┃<span style=\"font-weight: bold\"> Layer (type)                         </span>┃<span style=\"font-weight: bold\"> Output Shape                </span>┃<span style=\"font-weight: bold\">         Param # </span>┃\n",
       "┡━━━━━━━━━━━━━━━━━━━━━━━━━━━━━━━━━━━━━━╇━━━━━━━━━━━━━━━━━━━━━━━━━━━━━╇━━━━━━━━━━━━━━━━━┩\n",
       "│ random_flip (<span style=\"color: #0087ff; text-decoration-color: #0087ff\">RandomFlip</span>)             │ (<span style=\"color: #00d7ff; text-decoration-color: #00d7ff\">None</span>, <span style=\"color: #00af00; text-decoration-color: #00af00\">255</span>, <span style=\"color: #00af00; text-decoration-color: #00af00\">255</span>, <span style=\"color: #00af00; text-decoration-color: #00af00\">3</span>)         │               <span style=\"color: #00af00; text-decoration-color: #00af00\">0</span> │\n",
       "├──────────────────────────────────────┼─────────────────────────────┼─────────────────┤\n",
       "│ random_rotation (<span style=\"color: #0087ff; text-decoration-color: #0087ff\">RandomRotation</span>)     │ (<span style=\"color: #00d7ff; text-decoration-color: #00d7ff\">None</span>, <span style=\"color: #00af00; text-decoration-color: #00af00\">255</span>, <span style=\"color: #00af00; text-decoration-color: #00af00\">255</span>, <span style=\"color: #00af00; text-decoration-color: #00af00\">3</span>)         │               <span style=\"color: #00af00; text-decoration-color: #00af00\">0</span> │\n",
       "├──────────────────────────────────────┼─────────────────────────────┼─────────────────┤\n",
       "│ random_zoom (<span style=\"color: #0087ff; text-decoration-color: #0087ff\">RandomZoom</span>)             │ (<span style=\"color: #00d7ff; text-decoration-color: #00d7ff\">None</span>, <span style=\"color: #00af00; text-decoration-color: #00af00\">255</span>, <span style=\"color: #00af00; text-decoration-color: #00af00\">255</span>, <span style=\"color: #00af00; text-decoration-color: #00af00\">3</span>)         │               <span style=\"color: #00af00; text-decoration-color: #00af00\">0</span> │\n",
       "├──────────────────────────────────────┼─────────────────────────────┼─────────────────┤\n",
       "│ conv2d (<span style=\"color: #0087ff; text-decoration-color: #0087ff\">Conv2D</span>)                      │ (<span style=\"color: #00d7ff; text-decoration-color: #00d7ff\">None</span>, <span style=\"color: #00af00; text-decoration-color: #00af00\">254</span>, <span style=\"color: #00af00; text-decoration-color: #00af00\">254</span>, <span style=\"color: #00af00; text-decoration-color: #00af00\">128</span>)       │           <span style=\"color: #00af00; text-decoration-color: #00af00\">1,664</span> │\n",
       "├──────────────────────────────────────┼─────────────────────────────┼─────────────────┤\n",
       "│ max_pooling2d (<span style=\"color: #0087ff; text-decoration-color: #0087ff\">MaxPooling2D</span>)         │ (<span style=\"color: #00d7ff; text-decoration-color: #00d7ff\">None</span>, <span style=\"color: #00af00; text-decoration-color: #00af00\">127</span>, <span style=\"color: #00af00; text-decoration-color: #00af00\">127</span>, <span style=\"color: #00af00; text-decoration-color: #00af00\">128</span>)       │               <span style=\"color: #00af00; text-decoration-color: #00af00\">0</span> │\n",
       "├──────────────────────────────────────┼─────────────────────────────┼─────────────────┤\n",
       "│ conv2d_1 (<span style=\"color: #0087ff; text-decoration-color: #0087ff\">Conv2D</span>)                    │ (<span style=\"color: #00d7ff; text-decoration-color: #00d7ff\">None</span>, <span style=\"color: #00af00; text-decoration-color: #00af00\">126</span>, <span style=\"color: #00af00; text-decoration-color: #00af00\">126</span>, <span style=\"color: #00af00; text-decoration-color: #00af00\">64</span>)        │          <span style=\"color: #00af00; text-decoration-color: #00af00\">32,832</span> │\n",
       "├──────────────────────────────────────┼─────────────────────────────┼─────────────────┤\n",
       "│ max_pooling2d_1 (<span style=\"color: #0087ff; text-decoration-color: #0087ff\">MaxPooling2D</span>)       │ (<span style=\"color: #00d7ff; text-decoration-color: #00d7ff\">None</span>, <span style=\"color: #00af00; text-decoration-color: #00af00\">63</span>, <span style=\"color: #00af00; text-decoration-color: #00af00\">63</span>, <span style=\"color: #00af00; text-decoration-color: #00af00\">64</span>)          │               <span style=\"color: #00af00; text-decoration-color: #00af00\">0</span> │\n",
       "├──────────────────────────────────────┼─────────────────────────────┼─────────────────┤\n",
       "│ flatten (<span style=\"color: #0087ff; text-decoration-color: #0087ff\">Flatten</span>)                    │ (<span style=\"color: #00d7ff; text-decoration-color: #00d7ff\">None</span>, <span style=\"color: #00af00; text-decoration-color: #00af00\">254016</span>)              │               <span style=\"color: #00af00; text-decoration-color: #00af00\">0</span> │\n",
       "├──────────────────────────────────────┼─────────────────────────────┼─────────────────┤\n",
       "│ dense (<span style=\"color: #0087ff; text-decoration-color: #0087ff\">Dense</span>)                        │ (<span style=\"color: #00d7ff; text-decoration-color: #00d7ff\">None</span>, <span style=\"color: #00af00; text-decoration-color: #00af00\">64</span>)                  │      <span style=\"color: #00af00; text-decoration-color: #00af00\">16,257,088</span> │\n",
       "├──────────────────────────────────────┼─────────────────────────────┼─────────────────┤\n",
       "│ dense_1 (<span style=\"color: #0087ff; text-decoration-color: #0087ff\">Dense</span>)                      │ (<span style=\"color: #00d7ff; text-decoration-color: #00d7ff\">None</span>, <span style=\"color: #00af00; text-decoration-color: #00af00\">64</span>)                  │           <span style=\"color: #00af00; text-decoration-color: #00af00\">4,160</span> │\n",
       "├──────────────────────────────────────┼─────────────────────────────┼─────────────────┤\n",
       "│ dense_2 (<span style=\"color: #0087ff; text-decoration-color: #0087ff\">Dense</span>)                      │ (<span style=\"color: #00d7ff; text-decoration-color: #00d7ff\">None</span>, <span style=\"color: #00af00; text-decoration-color: #00af00\">32</span>)                  │           <span style=\"color: #00af00; text-decoration-color: #00af00\">2,080</span> │\n",
       "├──────────────────────────────────────┼─────────────────────────────┼─────────────────┤\n",
       "│ dense_3 (<span style=\"color: #0087ff; text-decoration-color: #0087ff\">Dense</span>)                      │ (<span style=\"color: #00d7ff; text-decoration-color: #00d7ff\">None</span>, <span style=\"color: #00af00; text-decoration-color: #00af00\">32</span>)                  │           <span style=\"color: #00af00; text-decoration-color: #00af00\">1,056</span> │\n",
       "├──────────────────────────────────────┼─────────────────────────────┼─────────────────┤\n",
       "│ dense_4 (<span style=\"color: #0087ff; text-decoration-color: #0087ff\">Dense</span>)                      │ (<span style=\"color: #00d7ff; text-decoration-color: #00d7ff\">None</span>, <span style=\"color: #00af00; text-decoration-color: #00af00\">1</span>)                   │              <span style=\"color: #00af00; text-decoration-color: #00af00\">33</span> │\n",
       "└──────────────────────────────────────┴─────────────────────────────┴─────────────────┘\n",
       "</pre>\n"
      ],
      "text/plain": [
       "┏━━━━━━━━━━━━━━━━━━━━━━━━━━━━━━━━━━━━━━┳━━━━━━━━━━━━━━━━━━━━━━━━━━━━━┳━━━━━━━━━━━━━━━━━┓\n",
       "┃\u001b[1m \u001b[0m\u001b[1mLayer (type)                        \u001b[0m\u001b[1m \u001b[0m┃\u001b[1m \u001b[0m\u001b[1mOutput Shape               \u001b[0m\u001b[1m \u001b[0m┃\u001b[1m \u001b[0m\u001b[1m        Param #\u001b[0m\u001b[1m \u001b[0m┃\n",
       "┡━━━━━━━━━━━━━━━━━━━━━━━━━━━━━━━━━━━━━━╇━━━━━━━━━━━━━━━━━━━━━━━━━━━━━╇━━━━━━━━━━━━━━━━━┩\n",
       "│ random_flip (\u001b[38;5;33mRandomFlip\u001b[0m)             │ (\u001b[38;5;45mNone\u001b[0m, \u001b[38;5;34m255\u001b[0m, \u001b[38;5;34m255\u001b[0m, \u001b[38;5;34m3\u001b[0m)         │               \u001b[38;5;34m0\u001b[0m │\n",
       "├──────────────────────────────────────┼─────────────────────────────┼─────────────────┤\n",
       "│ random_rotation (\u001b[38;5;33mRandomRotation\u001b[0m)     │ (\u001b[38;5;45mNone\u001b[0m, \u001b[38;5;34m255\u001b[0m, \u001b[38;5;34m255\u001b[0m, \u001b[38;5;34m3\u001b[0m)         │               \u001b[38;5;34m0\u001b[0m │\n",
       "├──────────────────────────────────────┼─────────────────────────────┼─────────────────┤\n",
       "│ random_zoom (\u001b[38;5;33mRandomZoom\u001b[0m)             │ (\u001b[38;5;45mNone\u001b[0m, \u001b[38;5;34m255\u001b[0m, \u001b[38;5;34m255\u001b[0m, \u001b[38;5;34m3\u001b[0m)         │               \u001b[38;5;34m0\u001b[0m │\n",
       "├──────────────────────────────────────┼─────────────────────────────┼─────────────────┤\n",
       "│ conv2d (\u001b[38;5;33mConv2D\u001b[0m)                      │ (\u001b[38;5;45mNone\u001b[0m, \u001b[38;5;34m254\u001b[0m, \u001b[38;5;34m254\u001b[0m, \u001b[38;5;34m128\u001b[0m)       │           \u001b[38;5;34m1,664\u001b[0m │\n",
       "├──────────────────────────────────────┼─────────────────────────────┼─────────────────┤\n",
       "│ max_pooling2d (\u001b[38;5;33mMaxPooling2D\u001b[0m)         │ (\u001b[38;5;45mNone\u001b[0m, \u001b[38;5;34m127\u001b[0m, \u001b[38;5;34m127\u001b[0m, \u001b[38;5;34m128\u001b[0m)       │               \u001b[38;5;34m0\u001b[0m │\n",
       "├──────────────────────────────────────┼─────────────────────────────┼─────────────────┤\n",
       "│ conv2d_1 (\u001b[38;5;33mConv2D\u001b[0m)                    │ (\u001b[38;5;45mNone\u001b[0m, \u001b[38;5;34m126\u001b[0m, \u001b[38;5;34m126\u001b[0m, \u001b[38;5;34m64\u001b[0m)        │          \u001b[38;5;34m32,832\u001b[0m │\n",
       "├──────────────────────────────────────┼─────────────────────────────┼─────────────────┤\n",
       "│ max_pooling2d_1 (\u001b[38;5;33mMaxPooling2D\u001b[0m)       │ (\u001b[38;5;45mNone\u001b[0m, \u001b[38;5;34m63\u001b[0m, \u001b[38;5;34m63\u001b[0m, \u001b[38;5;34m64\u001b[0m)          │               \u001b[38;5;34m0\u001b[0m │\n",
       "├──────────────────────────────────────┼─────────────────────────────┼─────────────────┤\n",
       "│ flatten (\u001b[38;5;33mFlatten\u001b[0m)                    │ (\u001b[38;5;45mNone\u001b[0m, \u001b[38;5;34m254016\u001b[0m)              │               \u001b[38;5;34m0\u001b[0m │\n",
       "├──────────────────────────────────────┼─────────────────────────────┼─────────────────┤\n",
       "│ dense (\u001b[38;5;33mDense\u001b[0m)                        │ (\u001b[38;5;45mNone\u001b[0m, \u001b[38;5;34m64\u001b[0m)                  │      \u001b[38;5;34m16,257,088\u001b[0m │\n",
       "├──────────────────────────────────────┼─────────────────────────────┼─────────────────┤\n",
       "│ dense_1 (\u001b[38;5;33mDense\u001b[0m)                      │ (\u001b[38;5;45mNone\u001b[0m, \u001b[38;5;34m64\u001b[0m)                  │           \u001b[38;5;34m4,160\u001b[0m │\n",
       "├──────────────────────────────────────┼─────────────────────────────┼─────────────────┤\n",
       "│ dense_2 (\u001b[38;5;33mDense\u001b[0m)                      │ (\u001b[38;5;45mNone\u001b[0m, \u001b[38;5;34m32\u001b[0m)                  │           \u001b[38;5;34m2,080\u001b[0m │\n",
       "├──────────────────────────────────────┼─────────────────────────────┼─────────────────┤\n",
       "│ dense_3 (\u001b[38;5;33mDense\u001b[0m)                      │ (\u001b[38;5;45mNone\u001b[0m, \u001b[38;5;34m32\u001b[0m)                  │           \u001b[38;5;34m1,056\u001b[0m │\n",
       "├──────────────────────────────────────┼─────────────────────────────┼─────────────────┤\n",
       "│ dense_4 (\u001b[38;5;33mDense\u001b[0m)                      │ (\u001b[38;5;45mNone\u001b[0m, \u001b[38;5;34m1\u001b[0m)                   │              \u001b[38;5;34m33\u001b[0m │\n",
       "└──────────────────────────────────────┴─────────────────────────────┴─────────────────┘\n"
      ]
     },
     "metadata": {},
     "output_type": "display_data"
    },
    {
     "data": {
      "text/html": [
       "<pre style=\"white-space:pre;overflow-x:auto;line-height:normal;font-family:Menlo,'DejaVu Sans Mono',consolas,'Courier New',monospace\"><span style=\"font-weight: bold\"> Total params: </span><span style=\"color: #00af00; text-decoration-color: #00af00\">16,298,913</span> (62.18 MB)\n",
       "</pre>\n"
      ],
      "text/plain": [
       "\u001b[1m Total params: \u001b[0m\u001b[38;5;34m16,298,913\u001b[0m (62.18 MB)\n"
      ]
     },
     "metadata": {},
     "output_type": "display_data"
    },
    {
     "data": {
      "text/html": [
       "<pre style=\"white-space:pre;overflow-x:auto;line-height:normal;font-family:Menlo,'DejaVu Sans Mono',consolas,'Courier New',monospace\"><span style=\"font-weight: bold\"> Trainable params: </span><span style=\"color: #00af00; text-decoration-color: #00af00\">16,298,913</span> (62.18 MB)\n",
       "</pre>\n"
      ],
      "text/plain": [
       "\u001b[1m Trainable params: \u001b[0m\u001b[38;5;34m16,298,913\u001b[0m (62.18 MB)\n"
      ]
     },
     "metadata": {},
     "output_type": "display_data"
    },
    {
     "data": {
      "text/html": [
       "<pre style=\"white-space:pre;overflow-x:auto;line-height:normal;font-family:Menlo,'DejaVu Sans Mono',consolas,'Courier New',monospace\"><span style=\"font-weight: bold\"> Non-trainable params: </span><span style=\"color: #00af00; text-decoration-color: #00af00\">0</span> (0.00 B)\n",
       "</pre>\n"
      ],
      "text/plain": [
       "\u001b[1m Non-trainable params: \u001b[0m\u001b[38;5;34m0\u001b[0m (0.00 B)\n"
      ]
     },
     "metadata": {},
     "output_type": "display_data"
    }
   ],
   "source": [
    "model=Sequential([\n",
    "    RandomFlip(\"horizontal\",input_shape=(255,255,3)),\n",
    "    RandomRotation(0.1),\n",
    "    RandomZoom(0.1),\n",
    "    Conv2D(128,kernel_size=(2,2),activation='relu'),\n",
    "    MaxPool2D(pool_size=(2,2)),\n",
    "    Conv2D(64,kernel_size=(2,2),activation='relu'),\n",
    "    MaxPool2D(pool_size=(2,2)),\n",
    "    Flatten(),\n",
    "    Dense(64,activation='relu'),\n",
    "    Dense(64,activation='relu'),\n",
    "    Dense(32,activation='relu'),\n",
    "    Dense(32,activation='relu'),\n",
    "    Dense(1,activation='sigmoid'),\n",
    "])\n",
    "model.summary()"
   ]
  },
  {
   "cell_type": "code",
   "execution_count": 29,
   "id": "c5af27ad-8e77-4a02-88db-911b1b266b26",
   "metadata": {},
   "outputs": [],
   "source": [
    "from tensorflow.keras import losses"
   ]
  },
  {
   "cell_type": "code",
   "execution_count": 30,
   "id": "a58ce4a7-1749-407d-b44d-715164c3a250",
   "metadata": {},
   "outputs": [],
   "source": [
    "model.compile(\n",
    "    optimizer='adam',loss=losses.binary_crossentropy,metrics=['accuracy']\n",
    ")"
   ]
  },
  {
   "cell_type": "code",
   "execution_count": 31,
   "id": "b6be0ae3-1b88-4bd3-975e-2ed2e1043d8f",
   "metadata": {},
   "outputs": [
    {
     "name": "stdout",
     "output_type": "stream",
     "text": [
      "Epoch 1/3\n",
      "\u001b[1m7/7\u001b[0m \u001b[32m━━━━━━━━━━━━━━━━━━━━\u001b[0m\u001b[37m\u001b[0m \u001b[1m51s\u001b[0m 5s/step - accuracy: 0.5365 - loss: 0.6700\n",
      "Epoch 2/3\n",
      "\u001b[1m7/7\u001b[0m \u001b[32m━━━━━━━━━━━━━━━━━━━━\u001b[0m\u001b[37m\u001b[0m \u001b[1m48s\u001b[0m 6s/step - accuracy: 0.6339 - loss: 0.6362\n",
      "Epoch 3/3\n",
      "\u001b[1m7/7\u001b[0m \u001b[32m━━━━━━━━━━━━━━━━━━━━\u001b[0m\u001b[37m\u001b[0m \u001b[1m35s\u001b[0m 5s/step - accuracy: 0.7260 - loss: 0.6131\n"
     ]
    },
    {
     "data": {
      "text/plain": [
       "<keras.src.callbacks.history.History at 0x191c21cefc0>"
      ]
     },
     "execution_count": 31,
     "metadata": {},
     "output_type": "execute_result"
    }
   ],
   "source": [
    "model.fit(X_train,y_train,epochs=3)"
   ]
  },
  {
   "cell_type": "code",
   "execution_count": 32,
   "id": "f438ded2-4e61-49c0-a706-4e310618b2af",
   "metadata": {},
   "outputs": [
    {
     "name": "stdout",
     "output_type": "stream",
     "text": [
      "\u001b[1m2/2\u001b[0m \u001b[32m━━━━━━━━━━━━━━━━━━━━\u001b[0m\u001b[37m\u001b[0m \u001b[1m8s\u001b[0m 2s/step - accuracy: 0.7774 - loss: 0.5380\n"
     ]
    },
    {
     "data": {
      "text/plain": [
       "[0.5586340427398682, 0.7755101919174194]"
      ]
     },
     "execution_count": 32,
     "metadata": {},
     "output_type": "execute_result"
    }
   ],
   "source": [
    "model.evaluate(X_test,y_test)"
   ]
  },
  {
   "cell_type": "code",
   "execution_count": 33,
   "id": "ba790048-4846-40c0-afdb-a300b5cddc8a",
   "metadata": {},
   "outputs": [
    {
     "name": "stdout",
     "output_type": "stream",
     "text": [
      "\u001b[1m2/2\u001b[0m \u001b[32m━━━━━━━━━━━━━━━━━━━━\u001b[0m\u001b[37m\u001b[0m \u001b[1m1s\u001b[0m 480ms/step\n"
     ]
    }
   ],
   "source": [
    "predicted=model.predict(X_test)"
   ]
  },
  {
   "cell_type": "code",
   "execution_count": 34,
   "id": "0ff118fc-337d-4a71-89c6-a0bf650dc3ca",
   "metadata": {
    "scrolled": true
   },
   "outputs": [
    {
     "data": {
      "text/plain": [
       "array([[0.58293176],\n",
       "       [0.9389456 ],\n",
       "       [0.7220663 ],\n",
       "       [0.61252534],\n",
       "       [0.5212587 ],\n",
       "       [0.960337  ],\n",
       "       [0.900776  ],\n",
       "       [0.43148357],\n",
       "       [0.7758787 ],\n",
       "       [0.6859356 ],\n",
       "       [0.45311496],\n",
       "       [0.7134375 ],\n",
       "       [0.6568948 ],\n",
       "       [0.5065114 ],\n",
       "       [0.6088672 ],\n",
       "       [0.87763995],\n",
       "       [0.76622725],\n",
       "       [0.78273153],\n",
       "       [0.4373475 ],\n",
       "       [0.6947603 ],\n",
       "       [0.79976857],\n",
       "       [0.86869025],\n",
       "       [0.5491507 ],\n",
       "       [0.52262795],\n",
       "       [0.54491866],\n",
       "       [0.6932472 ],\n",
       "       [0.8410183 ],\n",
       "       [0.5673952 ],\n",
       "       [0.39920446],\n",
       "       [0.8344035 ],\n",
       "       [0.59511596],\n",
       "       [0.7855044 ],\n",
       "       [0.46577436],\n",
       "       [0.8063138 ],\n",
       "       [0.47378707],\n",
       "       [0.8802771 ],\n",
       "       [0.3445312 ],\n",
       "       [0.3762485 ],\n",
       "       [0.54006904],\n",
       "       [0.8786137 ],\n",
       "       [0.42305854],\n",
       "       [0.4164758 ],\n",
       "       [0.670787  ],\n",
       "       [0.42898926],\n",
       "       [0.96453863],\n",
       "       [0.6019775 ],\n",
       "       [0.6117984 ],\n",
       "       [0.49477372],\n",
       "       [0.40506762]], dtype=float32)"
      ]
     },
     "execution_count": 34,
     "metadata": {},
     "output_type": "execute_result"
    }
   ],
   "source": [
    "predicted"
   ]
  },
  {
   "cell_type": "code",
   "execution_count": 35,
   "id": "00292ec6-7cd8-4a6a-98d5-2aea63cd6c5a",
   "metadata": {
    "scrolled": true
   },
   "outputs": [
    {
     "name": "stdout",
     "output_type": "stream",
     "text": [
      "[0.58293176]\n",
      "[0.9389456]\n",
      "[0.7220663]\n",
      "[0.61252534]\n",
      "[0.5212587]\n",
      "[0.960337]\n",
      "[0.900776]\n",
      "[0.43148357]\n",
      "[0.7758787]\n",
      "[0.6859356]\n",
      "[0.45311496]\n",
      "[0.7134375]\n",
      "[0.6568948]\n",
      "[0.5065114]\n",
      "[0.6088672]\n",
      "[0.87763995]\n",
      "[0.76622725]\n",
      "[0.78273153]\n",
      "[0.4373475]\n",
      "[0.6947603]\n",
      "[0.79976857]\n",
      "[0.86869025]\n",
      "[0.5491507]\n",
      "[0.52262795]\n",
      "[0.54491866]\n",
      "[0.6932472]\n",
      "[0.8410183]\n",
      "[0.5673952]\n",
      "[0.39920446]\n",
      "[0.8344035]\n",
      "[0.59511596]\n",
      "[0.7855044]\n",
      "[0.46577436]\n",
      "[0.8063138]\n",
      "[0.47378707]\n",
      "[0.8802771]\n",
      "[0.3445312]\n",
      "[0.3762485]\n",
      "[0.54006904]\n",
      "[0.8786137]\n",
      "[0.42305854]\n",
      "[0.4164758]\n",
      "[0.670787]\n",
      "[0.42898926]\n",
      "[0.96453863]\n",
      "[0.6019775]\n",
      "[0.6117984]\n",
      "[0.49477372]\n",
      "[0.40506762]\n"
     ]
    },
    {
     "data": {
      "text/plain": [
       "[1,\n",
       " 1,\n",
       " 1,\n",
       " 1,\n",
       " 1,\n",
       " 1,\n",
       " 1,\n",
       " 0,\n",
       " 1,\n",
       " 1,\n",
       " 0,\n",
       " 1,\n",
       " 1,\n",
       " 1,\n",
       " 1,\n",
       " 1,\n",
       " 1,\n",
       " 1,\n",
       " 0,\n",
       " 1,\n",
       " 1,\n",
       " 1,\n",
       " 1,\n",
       " 1,\n",
       " 1,\n",
       " 1,\n",
       " 1,\n",
       " 1,\n",
       " 0,\n",
       " 1,\n",
       " 1,\n",
       " 1,\n",
       " 0,\n",
       " 1,\n",
       " 0,\n",
       " 1,\n",
       " 0,\n",
       " 0,\n",
       " 1,\n",
       " 1,\n",
       " 0,\n",
       " 0,\n",
       " 1,\n",
       " 0,\n",
       " 1,\n",
       " 1,\n",
       " 1,\n",
       " 0,\n",
       " 0]"
      ]
     },
     "execution_count": 35,
     "metadata": {},
     "output_type": "execute_result"
    }
   ],
   "source": [
    "completely_predicted=[]\n",
    "for i in predicted:\n",
    "    print(i)\n",
    "    if i>0.5:\n",
    "        completely_predicted.append(1)\n",
    "    else:\n",
    "        completely_predicted.append(0)\n",
    "completely_predicted"
   ]
  },
  {
   "cell_type": "code",
   "execution_count": 36,
   "id": "d259dbca-1d24-479f-a75f-2cac85983b30",
   "metadata": {},
   "outputs": [],
   "source": [
    "from sklearn.metrics import confusion_matrix,f1_score,classification_report\n",
    "import seaborn as sn"
   ]
  },
  {
   "cell_type": "code",
   "execution_count": 37,
   "id": "7ab7e25f-cfe7-472d-b820-ca49d216edaa",
   "metadata": {},
   "outputs": [
    {
     "data": {
      "text/plain": [
       "array([[10,  8],\n",
       "       [ 3, 28]], dtype=int64)"
      ]
     },
     "execution_count": 37,
     "metadata": {},
     "output_type": "execute_result"
    }
   ],
   "source": [
    "cm=confusion_matrix(y_true=y_test,y_pred=completely_predicted)\n",
    "cm"
   ]
  },
  {
   "cell_type": "code",
   "execution_count": 41,
   "id": "a4e9d752-1b8b-4850-9ab6-5b1d993c4f0c",
   "metadata": {},
   "outputs": [
    {
     "data": {
      "text/plain": [
       "<Axes: >"
      ]
     },
     "execution_count": 41,
     "metadata": {},
     "output_type": "execute_result"
    },
    {
     "data": {
      "image/png": "[encoded data removed]",
      "text/plain": [
       "<Figure size 640x480 with 2 Axes>"
      ]
     },
     "metadata": {},
     "output_type": "display_data"
    }
   ],
   "source": [
    "plt.xlabel('True')\n",
    "plt.ylabel('predicted')\n",
    "sn.heatmap(\n",
    "    cm,\n",
    "    annot=True\n",
    ")"
   ]
  },
  {
   "cell_type": "code",
   "execution_count": 39,
   "id": "9df17798-b500-4402-a8ba-550b59fddd18",
   "metadata": {},
   "outputs": [
    {
     "name": "stdout",
     "output_type": "stream",
     "text": [
      "0.835820895522388\n"
     ]
    }
   ],
   "source": [
    "scores=f1_score(y_test,completely_predicted)\n",
    "print(scores)"
   ]
  },
  {
   "cell_type": "code",
   "execution_count": 40,
   "id": "776dfa43-e6bf-4734-b0fc-1c83214e4634",
   "metadata": {},
   "outputs": [
    {
     "name": "stdout",
     "output_type": "stream",
     "text": [
      "              precision    recall  f1-score   support\n",
      "\n",
      "           0       0.77      0.56      0.65        18\n",
      "           1       0.78      0.90      0.84        31\n",
      "\n",
      "    accuracy                           0.78        49\n",
      "   macro avg       0.77      0.73      0.74        49\n",
      "weighted avg       0.77      0.78      0.77        49\n",
      "\n"
     ]
    }
   ],
   "source": [
    "cr=classification_report(y_test,completely_predicted)\n",
    "print(cr)"
   ]
  },
  {
   "cell_type": "code",
   "execution_count": 45,
   "id": "2a1e9fb3-67c6-45e7-8e9f-5f812e02d5ce",
   "metadata": {},
   "outputs": [],
   "source": [
    "model.save('brain_tumor_classification.keras')"
   ]
  },
  {
   "cell_type": "code",
   "execution_count": null,
   "id": "57e88cce-b2da-4196-8866-083b52626bae",
   "metadata": {},
   "outputs": [],
   "source": []
  }
 ],
 "metadata": {
  "kernelspec": {
   "display_name": "Python 3 (ipykernel)",
   "language": "python",
   "name": "python3"
  },
  "language_info": {
   "codemirror_mode": {
    "name": "ipython",
    "version": 3
   },
   "file_extension": ".py",
   "mimetype": "text/x-python",
   "name": "python",
   "nbconvert_exporter": "python",
   "pygments_lexer": "ipython3",
   "version": "3.12.3"
  }
 },
 "nbformat": 4,
 "nbformat_minor": 5
}
